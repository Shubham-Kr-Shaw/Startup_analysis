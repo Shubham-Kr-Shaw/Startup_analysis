{
 "cells": [
  {
   "cell_type": "code",
   "execution_count": 1,
   "id": "outer-movement",
   "metadata": {},
   "outputs": [],
   "source": [
    "import pyspark\n",
    "from pyspark.sql import DataFrame\n",
    "from functools import reduce "
   ]
  },
  {
   "cell_type": "code",
   "execution_count": 2,
   "id": "received-benchmark",
   "metadata": {},
   "outputs": [],
   "source": [
    "from pyspark.sql import SparkSession"
   ]
  },
  {
   "cell_type": "code",
   "execution_count": 3,
   "id": "attempted-classification",
   "metadata": {},
   "outputs": [],
   "source": [
    "spark = SparkSession.builder.appName('Practice').getOrCreate()"
   ]
  },
  {
   "cell_type": "code",
   "execution_count": 4,
   "id": "willing-package",
   "metadata": {},
   "outputs": [],
   "source": [
    "df1 = spark.read.option('header','true').csv('startup.csv')"
   ]
  },
  {
   "cell_type": "code",
   "execution_count": 5,
   "id": "diverse-tiffany",
   "metadata": {},
   "outputs": [
    {
     "name": "stdout",
     "output_type": "stream",
     "text": [
      "+-----+----------+--------------------+--------------------+--------------------+-------------+--------------------+--------------------+-------------+-------+\n",
      "|Sr_No|      Date|        Startup_Name|   Industry_Vertical|         SubVertical|         City|      Investors_Name|     InvestmentnType|Amount_in_USD|Remarks|\n",
      "+-----+----------+--------------------+--------------------+--------------------+-------------+--------------------+--------------------+-------------+-------+\n",
      "|    1|09/01/2020|              BYJU’S|              E-Tech|          E-learning|    Bengaluru|Tiger Global Mana...|Private Equity Round| 20,00,00,000|   null|\n",
      "|    2|13/01/2020|              Shuttl|      Transportation|App based shuttle...|      Gurgaon|Susquehanna Growt...|            Series C|    80,48,394|   null|\n",
      "|    3|09/01/2020|           Mamaearth|          E-commerce|Retailer of baby ...|    Bengaluru|Sequoia Capital I...|            Series B|  1,83,58,860|   null|\n",
      "|    4|02/01/2020|https://www.wealt...|             FinTech|   Online Investment|    New Delhi|      Vinod Khatumal|        Pre-series A|    30,00,000|   null|\n",
      "|    5|02/01/2020|              Fashor| Fashion and Apparel|Embroiled Clothes...|       Mumbai|Sprout Venture Pa...|          Seed Round|    18,00,000|   null|\n",
      "|    6|13/01/2020|               Pando|           Logistics|Open-market, frei...|      Chennai|   Chiratae Ventures|            Series A|    90,00,000|   null|\n",
      "|    7|10/01/2020|              Zomato|         Hospitality|Online Food Deliv...|      Gurgaon|       Ant Financial|Private Equity Round| 15,00,00,000|   null|\n",
      "|    8|12/12/2019|              Ecozen|          Technology|            Agritech|         Pune|Sathguru Catalyze...|            Series A|    60,00,000|   null|\n",
      "|    9|06/12/2019|            CarDekho|          E-Commerce|          Automobile|      Gurgaon|Ping An Global Vo...|            Series D|  7,00,00,000|   null|\n",
      "|   10|03/12/2019|        Dhruva Space|           Aerospace|Satellite Communi...|    Bengaluru|Mumbai Angels, Ra...|                Seed|  5,00,00,000|   null|\n",
      "|   11|13/12/2019|              Rivigo|          Technology|Logistics Service...|      Gurgaon|SAIF Partners, Sp...|            Series F|  2,00,00,000|   null|\n",
      "|   12|17/12/2019|          Healthians|B2B-focused foodt...|Food Solutions Fo...|    Bengaluru|Paytm, NPTK, Sabr...|            Series C|  1,20,00,000|   null|\n",
      "|   13|16/12/2019|             Licious|          E-Commerce|Online Meat And S...|    Bengaluru|  Vertex Growth Fund|            Series E|  3,00,00,000|   null|\n",
      "|   14|16/12/2019|              InCred|             Finance|Non-Banking Finan...|       Mumbai|                null|        Debt Funding|    59,00,000|   null|\n",
      "|   15|14/12/2019|               Trell|               Video|Experience Discov...|    Bengaluru| Ruizheng Investment|          Seed Round|    20,00,000|   null|\n",
      "|   16|11/12/2019|          Rein Games|              Gaming|Real money based ...|        Noida|Manipal Education...|          Seed Round|  5,00,00,000|   null|\n",
      "|   17|20/12/2019|        Lenskart.com|          E-Commerce|Online Eyewear Sh...|    Faridabad|SoftBank Vision Fund|            Series G| 23,10,00,000|   null|\n",
      "|   18|13/11/2019|          Freshworks|            Software|Business and cust...|San Francisco|Sequoia, CapitalG...|            Series H| 15,00,00,000|   null|\n",
      "|   19|14/11/2019|             Misters| Health and wellness|Men's Health and ...|      Gurgaon|Sauce.vc, Rainfor...|            Series B|     4,86,000|   null|\n",
      "|   20|13/11/2019|Sunstone Eduversi...|           Education|           Elearning|      Gurgaon|Prime Venture Par...|                Seed|    15,00,000|   null|\n",
      "+-----+----------+--------------------+--------------------+--------------------+-------------+--------------------+--------------------+-------------+-------+\n",
      "only showing top 20 rows\n",
      "\n"
     ]
    }
   ],
   "source": [
    "df1.show()"
   ]
  },
  {
   "cell_type": "code",
   "execution_count": 6,
   "id": "consistent-starter",
   "metadata": {},
   "outputs": [
    {
     "data": {
      "text/plain": [
       "pyspark.sql.dataframe.DataFrame"
      ]
     },
     "execution_count": 6,
     "metadata": {},
     "output_type": "execute_result"
    }
   ],
   "source": [
    "type(df1)"
   ]
  },
  {
   "cell_type": "code",
   "execution_count": 7,
   "id": "engaged-dallas",
   "metadata": {},
   "outputs": [],
   "source": [
    "df2 = spark.read.load(\"consumerInternet.parquet\")\n"
   ]
  },
  {
   "cell_type": "code",
   "execution_count": 8,
   "id": "favorite-spice",
   "metadata": {},
   "outputs": [
    {
     "name": "stdout",
     "output_type": "stream",
     "text": [
      "+-----+----------+------------+-----------------+--------------------+----------+--------------------+-------------------+-------------+-------+\n",
      "|Sr_No|      Date|Startup_Name|Industry_Vertical|         SubVertical|      City|      Investors_Name|    InvestmentnType|Amount_in_USD|Remarks|\n",
      "+-----+----------+------------+-----------------+--------------------+----------+--------------------+-------------------+-------------+-------+\n",
      "|  152|01/09/2018|     Netmeds|Consumer Internet|Online Pharmacy C...|   Chennai|Sistema Asia Fund...|     Private Equity|  3,50,00,000|    nan|\n",
      "|  154|03/09/2018|  Daily hunt|Consumer Internet|News and ebooks M...| Bengaluru|         Falcon Edge|     Private Equity|    63,90,000|    nan|\n",
      "|  156|04/09/2018| HappyGoEasy|Consumer Internet| Online Travel Agecy|  Gurugram|Korea Investment ...|     Private Equity|          N/A|    nan|\n",
      "|  157|05/09/2018|       Nykaa|Consumer Internet|Online Marketplac...|    Mumbai|          Lighthouse|     Private Equity| 15,72,00,000|    nan|\n",
      "|  159|06/09/2018|     Dream11|Consumer Internet|Online Gaming Pla...|    Mumbai|Tencent, Kalaari ...|     Private Equity| 10,00,00,000|    nan|\n",
      "|  162|11/09/2018|   Pharmeasy|Consumer Internet|Online Marketplac...|    Mumbai|     InnoVen Capital|       Debt Funding|    55,00,000|    nan|\n",
      "|  167|02/08/2018| Samosa Labs|Consumer Internet|Social Media and ...| Hyderabad|Xiaomi and Sequoi...|     Private Equity|    70,00,000|    nan|\n",
      "|  168|03/08/2018|  ZiffyHomes|Consumer Internet|Online Home Renta...|  Gurugram|        Y Combinator|     Private Equity|     1,20,000|    nan|\n",
      "|  169|07/08/2018|   My OmNamo|Consumer Internet|Holy Platform Off...|    Mumbai|                 N/A|Seed/ Angel Funding|    10,00,000|    nan|\n",
      "|  170|07/08/2018|       ShopX|Consumer Internet|Assisted E-commer...| Bengaluru|Fung Strategic Ho...|     Private Equity|  3,50,00,000|    nan|\n",
      "|  171|07/08/2018|  MakeMyTrip|Consumer Internet|Online Travel Agg...|  Gurugram|  MakeMyTrip Limited|     Private Equity|  1,00,00,000|    nan|\n",
      "|  172|08/08/2018|   Hansel io|Consumer Internet|Real-time Mobile ...| Bengaluru|     Vertex Ventures|Seed/ Angel Funding|    40,00,000|    nan|\n",
      "|  173|08/08/2018| Metro Bikes|Consumer Internet|Online Bike Renta...| Bengaluru|Sequoia Capital I...|     Private Equity|  1,22,00,000|    nan|\n",
      "|  174|08/08/2018|    Phone Pe|Consumer Internet|    UPI Payments App| Bengaluru|            Flipkart|     Private Equity|  6,60,00,000|    nan|\n",
      "|  177|13/08/2018|     Inthree|Consumer Internet|Rural E-commerce ...|   Chennai|Ventureast, Orios...|Seed/ Angel Funding|    40,00,000|    nan|\n",
      "|  179|16/08/2018|     Enakshi|Consumer Internet|AI Based Solution...|Ahemadabad|                 N/A|Seed/ Angel Funding|     1,14,811|    nan|\n",
      "|  180|17/08/2018|   EazyDiner|Consumer Internet|Online Restaurant...|  Gurugram|Denlow Investment...|     Private Equity|    58,50,000|    nan|\n",
      "|  182|20/08/2018| RawPressery|Consumer Internet|Online Organic Ju...|    Mumbai|     Alteria Capital|       Debt Funding|    48,00,000|    nan|\n",
      "|  184|22/08/2018|        Revv|Consumer Internet|Online Indian Car...|  Gurugram|Hyundai, Edelweis...|     Private Equity|  1,42,70,000|    nan|\n",
      "|  185|26/08/2018|   ZestMoney|Consumer Internet|Online Lending Pl...| Bengaluru|Xiaomi,PayU, Ribb...|     Private Equity|  1,34,00,000|    nan|\n",
      "+-----+----------+------------+-----------------+--------------------+----------+--------------------+-------------------+-------------+-------+\n",
      "only showing top 20 rows\n",
      "\n"
     ]
    }
   ],
   "source": [
    "df2.show()"
   ]
  },
  {
   "cell_type": "code",
   "execution_count": 9,
   "id": "physical-bhutan",
   "metadata": {},
   "outputs": [],
   "source": [
    "\n",
    "\n",
    "def unionAll(*dfs):\n",
    "    return reduce(DataFrame.unionAll, dfs)\n",
    "  \n",
    "unified_df = unionAll(df1, df2)"
   ]
  },
  {
   "cell_type": "code",
   "execution_count": 10,
   "id": "atomic-functionality",
   "metadata": {},
   "outputs": [
    {
     "data": {
      "text/plain": [
       "pyspark.sql.dataframe.DataFrame"
      ]
     },
     "execution_count": 10,
     "metadata": {},
     "output_type": "execute_result"
    }
   ],
   "source": [
    "type(unified_df)"
   ]
  },
  {
   "cell_type": "code",
   "execution_count": 11,
   "id": "respected-communications",
   "metadata": {},
   "outputs": [],
   "source": [
    "def sparkShape(dataFrame):\n",
    "    return (dataFrame.count(), len(dataFrame.columns))\n"
   ]
  },
  {
   "cell_type": "code",
   "execution_count": 12,
   "id": "attempted-practitioner",
   "metadata": {},
   "outputs": [
    {
     "data": {
      "text/plain": [
       "(2103, 10)"
      ]
     },
     "execution_count": 12,
     "metadata": {},
     "output_type": "execute_result"
    }
   ],
   "source": [
    "sparkShape(df1)"
   ]
  },
  {
   "cell_type": "code",
   "execution_count": 13,
   "id": "utility-finding",
   "metadata": {},
   "outputs": [
    {
     "data": {
      "text/plain": [
       "(941, 10)"
      ]
     },
     "execution_count": 13,
     "metadata": {},
     "output_type": "execute_result"
    }
   ],
   "source": [
    "sparkShape(df2)"
   ]
  },
  {
   "cell_type": "code",
   "execution_count": 14,
   "id": "attended-teaching",
   "metadata": {},
   "outputs": [
    {
     "data": {
      "text/plain": [
       "(3044, 10)"
      ]
     },
     "execution_count": 14,
     "metadata": {},
     "output_type": "execute_result"
    }
   ],
   "source": [
    "sparkShape(unified_df)"
   ]
  },
  {
   "cell_type": "code",
   "execution_count": 15,
   "id": "verbal-headline",
   "metadata": {},
   "outputs": [
    {
     "name": "stdout",
     "output_type": "stream",
     "text": [
      "+-----+----------+--------------------+--------------------+--------------------+-------------+--------------------+--------------------+-------------+-------+\n",
      "|Sr_No|      Date|        Startup_Name|   Industry_Vertical|         SubVertical|         City|      Investors_Name|     InvestmentnType|Amount_in_USD|Remarks|\n",
      "+-----+----------+--------------------+--------------------+--------------------+-------------+--------------------+--------------------+-------------+-------+\n",
      "|    1|09/01/2020|              BYJU’S|              E-Tech|          E-learning|    Bengaluru|Tiger Global Mana...|Private Equity Round| 20,00,00,000|   null|\n",
      "|    2|13/01/2020|              Shuttl|      Transportation|App based shuttle...|      Gurgaon|Susquehanna Growt...|            Series C|    80,48,394|   null|\n",
      "|    3|09/01/2020|           Mamaearth|          E-commerce|Retailer of baby ...|    Bengaluru|Sequoia Capital I...|            Series B|  1,83,58,860|   null|\n",
      "|    4|02/01/2020|https://www.wealt...|             FinTech|   Online Investment|    New Delhi|      Vinod Khatumal|        Pre-series A|    30,00,000|   null|\n",
      "|    5|02/01/2020|              Fashor| Fashion and Apparel|Embroiled Clothes...|       Mumbai|Sprout Venture Pa...|          Seed Round|    18,00,000|   null|\n",
      "|    6|13/01/2020|               Pando|           Logistics|Open-market, frei...|      Chennai|   Chiratae Ventures|            Series A|    90,00,000|   null|\n",
      "|    7|10/01/2020|              Zomato|         Hospitality|Online Food Deliv...|      Gurgaon|       Ant Financial|Private Equity Round| 15,00,00,000|   null|\n",
      "|    8|12/12/2019|              Ecozen|          Technology|            Agritech|         Pune|Sathguru Catalyze...|            Series A|    60,00,000|   null|\n",
      "|    9|06/12/2019|            CarDekho|          E-Commerce|          Automobile|      Gurgaon|Ping An Global Vo...|            Series D|  7,00,00,000|   null|\n",
      "|   10|03/12/2019|        Dhruva Space|           Aerospace|Satellite Communi...|    Bengaluru|Mumbai Angels, Ra...|                Seed|  5,00,00,000|   null|\n",
      "|   11|13/12/2019|              Rivigo|          Technology|Logistics Service...|      Gurgaon|SAIF Partners, Sp...|            Series F|  2,00,00,000|   null|\n",
      "|   12|17/12/2019|          Healthians|B2B-focused foodt...|Food Solutions Fo...|    Bengaluru|Paytm, NPTK, Sabr...|            Series C|  1,20,00,000|   null|\n",
      "|   13|16/12/2019|             Licious|          E-Commerce|Online Meat And S...|    Bengaluru|  Vertex Growth Fund|            Series E|  3,00,00,000|   null|\n",
      "|   14|16/12/2019|              InCred|             Finance|Non-Banking Finan...|       Mumbai|                null|        Debt Funding|    59,00,000|   null|\n",
      "|   15|14/12/2019|               Trell|               Video|Experience Discov...|    Bengaluru| Ruizheng Investment|          Seed Round|    20,00,000|   null|\n",
      "|   16|11/12/2019|          Rein Games|              Gaming|Real money based ...|        Noida|Manipal Education...|          Seed Round|  5,00,00,000|   null|\n",
      "|   17|20/12/2019|        Lenskart.com|          E-Commerce|Online Eyewear Sh...|    Faridabad|SoftBank Vision Fund|            Series G| 23,10,00,000|   null|\n",
      "|   18|13/11/2019|          Freshworks|            Software|Business and cust...|San Francisco|Sequoia, CapitalG...|            Series H| 15,00,00,000|   null|\n",
      "|   19|14/11/2019|             Misters| Health and wellness|Men's Health and ...|      Gurgaon|Sauce.vc, Rainfor...|            Series B|     4,86,000|   null|\n",
      "|   20|13/11/2019|Sunstone Eduversi...|           Education|           Elearning|      Gurgaon|Prime Venture Par...|                Seed|    15,00,000|   null|\n",
      "+-----+----------+--------------------+--------------------+--------------------+-------------+--------------------+--------------------+-------------+-------+\n",
      "only showing top 20 rows\n",
      "\n"
     ]
    }
   ],
   "source": [
    "unified_df.show()"
   ]
  },
  {
   "cell_type": "code",
   "execution_count": null,
   "id": "arabic-fifteen",
   "metadata": {},
   "outputs": [],
   "source": []
  },
  {
   "cell_type": "code",
   "execution_count": null,
   "id": "useful-start",
   "metadata": {},
   "outputs": [],
   "source": []
  },
  {
   "cell_type": "code",
   "execution_count": null,
   "id": "private-practitioner",
   "metadata": {},
   "outputs": [],
   "source": []
  },
  {
   "cell_type": "code",
   "execution_count": null,
   "id": "wrong-prince",
   "metadata": {},
   "outputs": [],
   "source": []
  },
  {
   "cell_type": "code",
   "execution_count": null,
   "id": "extensive-vertical",
   "metadata": {},
   "outputs": [],
   "source": []
  },
  {
   "cell_type": "code",
   "execution_count": null,
   "id": "eligible-subdivision",
   "metadata": {},
   "outputs": [],
   "source": []
  },
  {
   "cell_type": "code",
   "execution_count": 16,
   "id": "bridal-cinema",
   "metadata": {},
   "outputs": [
    {
     "ename": "NameError",
     "evalue": "name 'pd' is not defined",
     "output_type": "error",
     "traceback": [
      "\u001b[0;31m---------------------------------------------------------------------------\u001b[0m",
      "\u001b[0;31mNameError\u001b[0m                                 Traceback (most recent call last)",
      "\u001b[0;32m<ipython-input-16-ee8ccf7e6f7a>\u001b[0m in \u001b[0;36m<module>\u001b[0;34m\u001b[0m\n\u001b[0;32m----> 1\u001b[0;31m \u001b[0mpd\u001b[0m\u001b[0;34m.\u001b[0m\u001b[0mread_csv\u001b[0m\u001b[0;34m(\u001b[0m\u001b[0;34m\"startup.csv\"\u001b[0m\u001b[0;34m)\u001b[0m\u001b[0;34m\u001b[0m\u001b[0;34m\u001b[0m\u001b[0m\n\u001b[0m",
      "\u001b[0;31mNameError\u001b[0m: name 'pd' is not defined"
     ]
    }
   ],
   "source": [
    "pd.read_csv(\"startup.csv\")"
   ]
  },
  {
   "cell_type": "code",
   "execution_count": null,
   "id": "standard-browser",
   "metadata": {},
   "outputs": [],
   "source": []
  }
 ],
 "metadata": {
  "kernelspec": {
   "display_name": "Python 3",
   "language": "python",
   "name": "python3"
  },
  "language_info": {
   "codemirror_mode": {
    "name": "ipython",
    "version": 3
   },
   "file_extension": ".py",
   "mimetype": "text/x-python",
   "name": "python",
   "nbconvert_exporter": "python",
   "pygments_lexer": "ipython3",
   "version": "3.8.5"
  }
 },
 "nbformat": 4,
 "nbformat_minor": 5
}
